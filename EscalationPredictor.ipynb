{
 "cells": [
  {
   "cell_type": "code",
   "execution_count": 159,
   "metadata": {
    "collapsed": false
   },
   "outputs": [
    {
     "name": "stdout",
     "output_type": "stream",
     "text": [
      "Populating the interactive namespace from numpy and matplotlib\n"
     ]
    }
   ],
   "source": [
    "%pylab inline"
   ]
  },
  {
   "cell_type": "code",
   "execution_count": 273,
   "metadata": {
    "collapsed": false
   },
   "outputs": [],
   "source": [
    "import pandas as pd\n",
    "import pylab as plt\n",
    "import numpy as np\n",
    "from sklearn.ensemble import RandomForestClassifier"
   ]
  },
  {
   "cell_type": "code",
   "execution_count": 274,
   "metadata": {
    "collapsed": true
   },
   "outputs": [],
   "source": [
    "# Set the global default size of matplotlib figures\n",
    "plt.rc('figure', figsize=(10,5))"
   ]
  },
  {
   "cell_type": "code",
   "execution_count": 275,
   "metadata": {
    "collapsed": false
   },
   "outputs": [],
   "source": [
    "train_data = pd.read_csv('./Data/ML Data Collection_Suraj.csv')"
   ]
  },
  {
   "cell_type": "code",
   "execution_count": 276,
   "metadata": {
    "collapsed": false
   },
   "outputs": [
    {
     "data": {
      "text/plain": [
       "Stage of Escalation                      object\n",
       "Priority                                 object\n",
       "APT                                     float64\n",
       "Calls from Customer                       int64\n",
       "TSLR                                    float64\n",
       "Number of Info to SAP from last TSLR      int64\n",
       "Number of Processors                      int64\n",
       "Customer call back request               object\n",
       "Core Business affected?                  object\n",
       "Go live Affected?                        object\n",
       "Num of users affected                   float64\n",
       "Work around available?                   object\n",
       "dtype: object"
      ]
     },
     "execution_count": 276,
     "metadata": {},
     "output_type": "execute_result"
    }
   ],
   "source": [
    "train_data.dtypes"
   ]
  },
  {
   "cell_type": "code",
   "execution_count": 277,
   "metadata": {
    "collapsed": true
   },
   "outputs": [],
   "source": [
    "#Mapping priority list into numbers\n",
    "priority_list = sorted(train_data['Priority'].unique())\n",
    "priority_mapping = dict(zip(priority_list,range(0,len(priority_list))))\n",
    "train_data['priority_val'] = train_data['Priority'].map(priority_mapping)"
   ]
  },
  {
   "cell_type": "code",
   "execution_count": null,
   "metadata": {
    "collapsed": true
   },
   "outputs": [],
   "source": [
    "# APT needs to be normalized"
   ]
  },
  {
   "cell_type": "code",
   "execution_count": null,
   "metadata": {
    "collapsed": true
   },
   "outputs": [],
   "source": [
    "# Check if 'Calls from Customer' needs to be normalized"
   ]
  },
  {
   "cell_type": "code",
   "execution_count": null,
   "metadata": {
    "collapsed": true
   },
   "outputs": [],
   "source": [
    "# TSLR needs to be normalized"
   ]
  },
  {
   "cell_type": "code",
   "execution_count": null,
   "metadata": {
    "collapsed": true
   },
   "outputs": [],
   "source": [
    "# Check if 'Number of Info to SAP from last TSLR' needs to be normalized\n",
    "# Check if 'Number of Processors' needs to be normalized"
   ]
  },
  {
   "cell_type": "code",
   "execution_count": 278,
   "metadata": {
    "collapsed": false
   },
   "outputs": [],
   "source": [
    "#Mapping callback list into numbers\n",
    "callback_list = sorted(train_data['Customer call back request'].unique())\n",
    "callback_mapping = dict(zip(callback_list,range(0,len(callback_list))))\n",
    "train_data['callback_val'] = train_data['Customer call back request'].map(callback_mapping)"
   ]
  },
  {
   "cell_type": "code",
   "execution_count": 279,
   "metadata": {
    "collapsed": false
   },
   "outputs": [],
   "source": [
    "#Mapping core business list into numbers\n",
    "core_business_list = sorted(train_data['Core Business affected?'].unique())\n",
    "core_business_mapping = dict(zip(core_business_list,range(0,len(core_business_list))))\n",
    "train_data['core_business_val'] = train_data['Core Business affected?'].map(core_business_mapping)"
   ]
  },
  {
   "cell_type": "code",
   "execution_count": 280,
   "metadata": {
    "collapsed": false
   },
   "outputs": [],
   "source": [
    "#Mapping Go live list into numbers\n",
    "go_live_list = sorted(train_data['Go live Affected?'].unique())\n",
    "go_live_mapping = dict(zip(go_live_list,range(0,len(go_live_list))))\n",
    "train_data['go_live_val'] = train_data['Go live Affected?'].map(go_live_mapping)"
   ]
  },
  {
   "cell_type": "code",
   "execution_count": null,
   "metadata": {
    "collapsed": true
   },
   "outputs": [],
   "source": [
    "#Either normalize or remove Num of users affected"
   ]
  },
  {
   "cell_type": "code",
   "execution_count": 281,
   "metadata": {
    "collapsed": false
   },
   "outputs": [],
   "source": [
    "#Mapping Work around list into numbers\n",
    "work_around_list = sorted(train_data['Work around available?'].unique())\n",
    "work_around_mapping = dict(zip(work_around_list,range(0,len(work_around_list))))\n",
    "train_data['work_around_val'] = train_data['Work around available?'].map(work_around_mapping)"
   ]
  },
  {
   "cell_type": "code",
   "execution_count": 282,
   "metadata": {
    "collapsed": true
   },
   "outputs": [],
   "source": [
    "#Mapping escalation states into numbers\n",
    "escStages = sorted(train_data['Stage of Escalation'].unique())\n",
    "states_mapping = dict(zip(escStages,range(0,len(escStages))))\n",
    "train_data['escStages_val'] = train_data['Stage of Escalation'].map(states_mapping)"
   ]
  },
  {
   "cell_type": "code",
   "execution_count": 153,
   "metadata": {
    "collapsed": false
   },
   "outputs": [],
   "source": [
    "#Ploting\n",
    "priority_xt = pd.crosstab(train_data[\"Priority\"],train_data['escStages_val'])\n",
    "priority_xt_sum = priority_xt.div(priority_xt.sum(1).astype(float),axis=0)\n",
    "\n",
    "#priority_xt_sum.plot(kind='bar', stacked=True, title='Escalation stages by Priority')\n",
    "#plt.xlabel('Priority')\n",
    "#plt.ylabel('Escalation Stage')"
   ]
  },
  {
   "cell_type": "code",
   "execution_count": 238,
   "metadata": {
    "collapsed": false
   },
   "outputs": [
    {
     "data": {
      "text/html": [
       "<div>\n",
       "<table border=\"1\" class=\"dataframe\">\n",
       "  <thead>\n",
       "    <tr style=\"text-align: right;\">\n",
       "      <th></th>\n",
       "      <th>Stage of Escalation</th>\n",
       "      <th>Priority</th>\n",
       "      <th>APT</th>\n",
       "      <th>Calls from Customer</th>\n",
       "      <th>TSLR</th>\n",
       "      <th>Number of Info to SAP from last TSLR</th>\n",
       "      <th>Number of Processors</th>\n",
       "      <th>Customer call back request</th>\n",
       "      <th>Core Business affected?</th>\n",
       "      <th>Go live Affected?</th>\n",
       "      <th>Num of users affected</th>\n",
       "      <th>Work around available?</th>\n",
       "      <th>priority_val</th>\n",
       "      <th>callback_val</th>\n",
       "      <th>core_business_val</th>\n",
       "      <th>go_live_val</th>\n",
       "      <th>work_around_val</th>\n",
       "      <th>escStages_val</th>\n",
       "    </tr>\n",
       "  </thead>\n",
       "  <tbody>\n",
       "    <tr>\n",
       "      <th>0</th>\n",
       "      <td>1.message_created</td>\n",
       "      <td>High</td>\n",
       "      <td>0.000</td>\n",
       "      <td>1</td>\n",
       "      <td>0.0</td>\n",
       "      <td>0</td>\n",
       "      <td>0</td>\n",
       "      <td>No</td>\n",
       "      <td>NaN</td>\n",
       "      <td>Yes</td>\n",
       "      <td>NaN</td>\n",
       "      <td>No</td>\n",
       "      <td>0</td>\n",
       "      <td>0</td>\n",
       "      <td>0</td>\n",
       "      <td>2</td>\n",
       "      <td>1</td>\n",
       "      <td>0</td>\n",
       "    </tr>\n",
       "    <tr>\n",
       "      <th>1</th>\n",
       "      <td>2.two_days_b4_BI</td>\n",
       "      <td>High</td>\n",
       "      <td>8.960</td>\n",
       "      <td>2</td>\n",
       "      <td>4.0</td>\n",
       "      <td>0</td>\n",
       "      <td>1</td>\n",
       "      <td>No</td>\n",
       "      <td>NaN</td>\n",
       "      <td>Yes</td>\n",
       "      <td>NaN</td>\n",
       "      <td>No</td>\n",
       "      <td>0</td>\n",
       "      <td>0</td>\n",
       "      <td>0</td>\n",
       "      <td>2</td>\n",
       "      <td>1</td>\n",
       "      <td>1</td>\n",
       "    </tr>\n",
       "    <tr>\n",
       "      <th>2</th>\n",
       "      <td>3.BI_is_communicated</td>\n",
       "      <td>High</td>\n",
       "      <td>10.960</td>\n",
       "      <td>2</td>\n",
       "      <td>0.0</td>\n",
       "      <td>1</td>\n",
       "      <td>1</td>\n",
       "      <td>No</td>\n",
       "      <td>NaN</td>\n",
       "      <td>Yes</td>\n",
       "      <td>NaN</td>\n",
       "      <td>No</td>\n",
       "      <td>0</td>\n",
       "      <td>0</td>\n",
       "      <td>0</td>\n",
       "      <td>2</td>\n",
       "      <td>1</td>\n",
       "      <td>2</td>\n",
       "    </tr>\n",
       "    <tr>\n",
       "      <th>3</th>\n",
       "      <td>4.Seven_days_b4_escalation</td>\n",
       "      <td>High</td>\n",
       "      <td>11.375</td>\n",
       "      <td>2</td>\n",
       "      <td>0.0</td>\n",
       "      <td>1</td>\n",
       "      <td>1</td>\n",
       "      <td>No</td>\n",
       "      <td>NaN</td>\n",
       "      <td>Yes</td>\n",
       "      <td>NaN</td>\n",
       "      <td>No</td>\n",
       "      <td>0</td>\n",
       "      <td>0</td>\n",
       "      <td>0</td>\n",
       "      <td>2</td>\n",
       "      <td>1</td>\n",
       "      <td>3</td>\n",
       "    </tr>\n",
       "    <tr>\n",
       "      <th>4</th>\n",
       "      <td>5.two_days_b4_escalation</td>\n",
       "      <td>High</td>\n",
       "      <td>16.375</td>\n",
       "      <td>2</td>\n",
       "      <td>5.0</td>\n",
       "      <td>2</td>\n",
       "      <td>1</td>\n",
       "      <td>No</td>\n",
       "      <td>NaN</td>\n",
       "      <td>Yes</td>\n",
       "      <td>NaN</td>\n",
       "      <td>No</td>\n",
       "      <td>0</td>\n",
       "      <td>0</td>\n",
       "      <td>0</td>\n",
       "      <td>2</td>\n",
       "      <td>1</td>\n",
       "      <td>4</td>\n",
       "    </tr>\n",
       "  </tbody>\n",
       "</table>\n",
       "</div>"
      ],
      "text/plain": [
       "          Stage of Escalation Priority     APT  Calls from Customer  TSLR  \\\n",
       "0           1.message_created     High   0.000                    1   0.0   \n",
       "1            2.two_days_b4_BI     High   8.960                    2   4.0   \n",
       "2        3.BI_is_communicated     High  10.960                    2   0.0   \n",
       "3  4.Seven_days_b4_escalation     High  11.375                    2   0.0   \n",
       "4    5.two_days_b4_escalation     High  16.375                    2   5.0   \n",
       "\n",
       "   Number of Info to SAP from last TSLR  Number of Processors  \\\n",
       "0                                     0                     0   \n",
       "1                                     0                     1   \n",
       "2                                     1                     1   \n",
       "3                                     1                     1   \n",
       "4                                     2                     1   \n",
       "\n",
       "  Customer call back request Core Business affected? Go live Affected?  \\\n",
       "0                         No                     NaN               Yes   \n",
       "1                         No                     NaN               Yes   \n",
       "2                         No                     NaN               Yes   \n",
       "3                         No                     NaN               Yes   \n",
       "4                         No                     NaN               Yes   \n",
       "\n",
       "   Num of users affected Work around available?  priority_val  callback_val  \\\n",
       "0                    NaN                     No             0             0   \n",
       "1                    NaN                     No             0             0   \n",
       "2                    NaN                     No             0             0   \n",
       "3                    NaN                     No             0             0   \n",
       "4                    NaN                     No             0             0   \n",
       "\n",
       "   core_business_val  go_live_val  work_around_val  escStages_val  \n",
       "0                  0            2                1              0  \n",
       "1                  0            2                1              1  \n",
       "2                  0            2                1              2  \n",
       "3                  0            2                1              3  \n",
       "4                  0            2                1              4  "
      ]
     },
     "execution_count": 238,
     "metadata": {},
     "output_type": "execute_result"
    }
   ],
   "source": [
    "train_data.head()"
   ]
  },
  {
   "cell_type": "code",
   "execution_count": 283,
   "metadata": {
    "collapsed": false
   },
   "outputs": [],
   "source": [
    "train_data = train_data.drop(['Stage of Escalation', 'Priority', 'Customer call back request', 'Core Business affected?',\n",
    "                             'Go live Affected?', 'Work around available?'], axis=1)"
   ]
  },
  {
   "cell_type": "code",
   "execution_count": 284,
   "metadata": {
    "collapsed": false
   },
   "outputs": [],
   "source": [
    "train_data = train_data.drop(['Num of users affected','core_business_val','go_live_val','work_around_val'], axis=1)"
   ]
  },
  {
   "cell_type": "code",
   "execution_count": 285,
   "metadata": {
    "collapsed": false
   },
   "outputs": [
    {
     "data": {
      "text/html": [
       "<div>\n",
       "<table border=\"1\" class=\"dataframe\">\n",
       "  <thead>\n",
       "    <tr style=\"text-align: right;\">\n",
       "      <th></th>\n",
       "      <th>APT</th>\n",
       "      <th>Calls from Customer</th>\n",
       "      <th>TSLR</th>\n",
       "      <th>Number of Info to SAP from last TSLR</th>\n",
       "      <th>Number of Processors</th>\n",
       "      <th>priority_val</th>\n",
       "      <th>callback_val</th>\n",
       "      <th>escStages_val</th>\n",
       "    </tr>\n",
       "  </thead>\n",
       "  <tbody>\n",
       "    <tr>\n",
       "      <th>0</th>\n",
       "      <td>0.000</td>\n",
       "      <td>1</td>\n",
       "      <td>0.0</td>\n",
       "      <td>0</td>\n",
       "      <td>0</td>\n",
       "      <td>0</td>\n",
       "      <td>0</td>\n",
       "      <td>0</td>\n",
       "    </tr>\n",
       "    <tr>\n",
       "      <th>1</th>\n",
       "      <td>8.960</td>\n",
       "      <td>2</td>\n",
       "      <td>4.0</td>\n",
       "      <td>0</td>\n",
       "      <td>1</td>\n",
       "      <td>0</td>\n",
       "      <td>0</td>\n",
       "      <td>1</td>\n",
       "    </tr>\n",
       "    <tr>\n",
       "      <th>2</th>\n",
       "      <td>10.960</td>\n",
       "      <td>2</td>\n",
       "      <td>0.0</td>\n",
       "      <td>1</td>\n",
       "      <td>1</td>\n",
       "      <td>0</td>\n",
       "      <td>0</td>\n",
       "      <td>2</td>\n",
       "    </tr>\n",
       "    <tr>\n",
       "      <th>3</th>\n",
       "      <td>11.375</td>\n",
       "      <td>2</td>\n",
       "      <td>0.0</td>\n",
       "      <td>1</td>\n",
       "      <td>1</td>\n",
       "      <td>0</td>\n",
       "      <td>0</td>\n",
       "      <td>3</td>\n",
       "    </tr>\n",
       "    <tr>\n",
       "      <th>4</th>\n",
       "      <td>16.375</td>\n",
       "      <td>2</td>\n",
       "      <td>5.0</td>\n",
       "      <td>2</td>\n",
       "      <td>1</td>\n",
       "      <td>0</td>\n",
       "      <td>0</td>\n",
       "      <td>4</td>\n",
       "    </tr>\n",
       "  </tbody>\n",
       "</table>\n",
       "</div>"
      ],
      "text/plain": [
       "      APT  Calls from Customer  TSLR  Number of Info to SAP from last TSLR  \\\n",
       "0   0.000                    1   0.0                                     0   \n",
       "1   8.960                    2   4.0                                     0   \n",
       "2  10.960                    2   0.0                                     1   \n",
       "3  11.375                    2   0.0                                     1   \n",
       "4  16.375                    2   5.0                                     2   \n",
       "\n",
       "   Number of Processors  priority_val  callback_val  escStages_val  \n",
       "0                     0             0             0              0  \n",
       "1                     1             0             0              1  \n",
       "2                     1             0             0              2  \n",
       "3                     1             0             0              3  \n",
       "4                     1             0             0              4  "
      ]
     },
     "execution_count": 285,
     "metadata": {},
     "output_type": "execute_result"
    }
   ],
   "source": [
    "train_data.head()"
   ]
  },
  {
   "cell_type": "code",
   "execution_count": 286,
   "metadata": {
    "collapsed": false
   },
   "outputs": [
    {
     "data": {
      "text/plain": [
       "APT                                     float64\n",
       "Calls from Customer                       int64\n",
       "TSLR                                    float64\n",
       "Number of Info to SAP from last TSLR      int64\n",
       "Number of Processors                      int64\n",
       "priority_val                              int64\n",
       "callback_val                              int64\n",
       "escStages_val                             int64\n",
       "dtype: object"
      ]
     },
     "execution_count": 286,
     "metadata": {},
     "output_type": "execute_result"
    }
   ],
   "source": [
    "train_data.dtypes"
   ]
  },
  {
   "cell_type": "code",
   "execution_count": 335,
   "metadata": {
    "collapsed": false
   },
   "outputs": [],
   "source": [
    "train_values = train_data.values\n",
    "test = train_values[:-1,:]\n"
   ]
  },
  {
   "cell_type": "code",
   "execution_count": 312,
   "metadata": {
    "collapsed": false
   },
   "outputs": [
    {
     "name": "stdout",
     "output_type": "stream",
     "text": [
      "(167L, 8L)\n",
      "[[ 22.   1.   1.   2.   1.   0.   0.   5.]]\n"
     ]
    }
   ],
   "source": [
    "train_samples = train_values[:-1,:]\n",
    "print train_samples.shape\n",
    "test_sample = train_values[-1:,:]\n",
    "print test_sample"
   ]
  },
  {
   "cell_type": "code",
   "execution_count": 327,
   "metadata": {
    "collapsed": false
   },
   "outputs": [
    {
     "name": "stdout",
     "output_type": "stream",
     "text": [
      "[[  0.     1.     0.   ...,   0.     0.     0.  ]\n",
      " [  8.96   2.     4.   ...,   1.     0.     0.  ]\n",
      " [ 10.96   2.     0.   ...,   1.     0.     0.  ]\n",
      " ..., \n",
      " [ 20.     1.     0.   ...,   1.     0.     0.  ]\n",
      " [ 20.     1.     0.   ...,   1.     0.     0.  ]\n",
      " [ 20.     1.     0.   ...,   1.     0.     0.  ]]\n",
      "[ 0.  1.  2.  3.  4.  5.  0.  1.  2.  3.  4.  5.  0.  1.  2.  3.  4.  5.\n",
      "  0.  1.  2.  3.  4.  5.  0.  1.  2.  3.  4.  5.  0.  1.  2.  3.  4.  5.\n",
      "  0.  1.  2.  3.  4.  5.  0.  1.  2.  3.  4.  5.  0.  1.  2.  3.  4.  5.\n",
      "  0.  1.  2.  3.  4.  5.  0.  1.  2.  3.  4.  5.  0.  1.  2.  3.  4.  5.\n",
      "  0.  1.  2.  3.  4.  5.  0.  1.  2.  3.  4.  5.  0.  1.  2.  3.  4.  5.\n",
      "  0.  1.  2.  3.  4.  5.  0.  1.  2.  3.  4.  5.  0.  1.  2.  3.  4.  5.\n",
      "  0.  1.  2.  3.  4.  5.  0.  1.  2.  3.  4.  5.  0.  1.  2.  3.  4.  5.\n",
      "  0.  1.  2.  3.  4.  5.  0.  1.  2.  3.  4.  5.  0.  1.  2.  3.  4.  5.\n",
      "  0.  1.  2.  3.  4.  5.  0.  1.  2.  3.  4.  5.  0.  1.  2.  3.  4.  5.\n",
      "  0.  1.  2.  3.  4.]\n"
     ]
    }
   ],
   "source": [
    "X = train_samples[:,:-1]\n",
    "print X\n",
    "Y = train_samples[:,-1:].ravel([1])\n",
    "\n",
    "print Y"
   ]
  },
  {
   "cell_type": "code",
   "execution_count": 328,
   "metadata": {
    "collapsed": false
   },
   "outputs": [
    {
     "data": {
      "text/plain": [
       "RandomForestClassifier(bootstrap=True, class_weight=None, criterion='gini',\n",
       "            max_depth=None, max_features='auto', max_leaf_nodes=None,\n",
       "            min_samples_leaf=1, min_samples_split=2,\n",
       "            min_weight_fraction_leaf=0.0, n_estimators=100, n_jobs=1,\n",
       "            oob_score=False, random_state=None, verbose=0,\n",
       "            warm_start=False)"
      ]
     },
     "execution_count": 328,
     "metadata": {},
     "output_type": "execute_result"
    }
   ],
   "source": [
    "\n",
    "rf = RandomForestClassifier(n_estimators=100)\n",
    "rf.fit(X,Y)"
   ]
  },
  {
   "cell_type": "code",
   "execution_count": 329,
   "metadata": {
    "collapsed": false
   },
   "outputs": [
    {
     "data": {
      "text/plain": [
       "0.69461077844311381"
      ]
     },
     "execution_count": 329,
     "metadata": {},
     "output_type": "execute_result"
    }
   ],
   "source": [
    "rf.score(X,Y)"
   ]
  },
  {
   "cell_type": "code",
   "execution_count": 332,
   "metadata": {
    "collapsed": false
   },
   "outputs": [
    {
     "name": "stdout",
     "output_type": "stream",
     "text": [
      "[[ 22.   1.   1.   2.   1.   0.   0.]]\n",
      "[[ 5.]]\n"
     ]
    }
   ],
   "source": [
    "test_X = test_sample[:,:-1]\n",
    "print test_X\n",
    "truth_Y = test_sample[:,-1:]\n",
    "print truth_Y"
   ]
  },
  {
   "cell_type": "code",
   "execution_count": 333,
   "metadata": {
    "collapsed": true
   },
   "outputs": [],
   "source": [
    "predicted_Y = rf.predict(test_X)\n"
   ]
  },
  {
   "cell_type": "code",
   "execution_count": 334,
   "metadata": {
    "collapsed": false
   },
   "outputs": [
    {
     "name": "stdout",
     "output_type": "stream",
     "text": [
      "[ 4.]\n"
     ]
    }
   ],
   "source": [
    "print predicted_Y"
   ]
  },
  {
   "cell_type": "code",
   "execution_count": null,
   "metadata": {
    "collapsed": true
   },
   "outputs": [],
   "source": []
  }
 ],
 "metadata": {
  "kernelspec": {
   "display_name": "Python 2",
   "language": "python",
   "name": "python2"
  },
  "language_info": {
   "codemirror_mode": {
    "name": "ipython",
    "version": 2
   },
   "file_extension": ".py",
   "mimetype": "text/x-python",
   "name": "python",
   "nbconvert_exporter": "python",
   "pygments_lexer": "ipython2",
   "version": "2.7.11"
  }
 },
 "nbformat": 4,
 "nbformat_minor": 0
}
